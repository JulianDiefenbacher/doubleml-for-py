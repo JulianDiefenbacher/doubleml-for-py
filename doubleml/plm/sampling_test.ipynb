{
 "cells": [
  {
   "cell_type": "code",
   "execution_count": 1,
   "metadata": {},
   "outputs": [
    {
     "data": {
      "text/html": [
       "<div>\n",
       "<style scoped>\n",
       "    .dataframe tbody tr th:only-of-type {\n",
       "        vertical-align: middle;\n",
       "    }\n",
       "\n",
       "    .dataframe tbody tr th {\n",
       "        vertical-align: top;\n",
       "    }\n",
       "\n",
       "    .dataframe thead th {\n",
       "        text-align: right;\n",
       "    }\n",
       "</style>\n",
       "<table border=\"1\" class=\"dataframe\">\n",
       "  <thead>\n",
       "    <tr style=\"text-align: right;\">\n",
       "      <th></th>\n",
       "      <th>id</th>\n",
       "      <th>time</th>\n",
       "      <th>d</th>\n",
       "      <th>y</th>\n",
       "      <th>x1</th>\n",
       "      <th>x2</th>\n",
       "      <th>x3</th>\n",
       "      <th>x4</th>\n",
       "      <th>x5</th>\n",
       "      <th>x6</th>\n",
       "      <th>...</th>\n",
       "      <th>x21</th>\n",
       "      <th>x22</th>\n",
       "      <th>x23</th>\n",
       "      <th>x24</th>\n",
       "      <th>x25</th>\n",
       "      <th>x26</th>\n",
       "      <th>x27</th>\n",
       "      <th>x28</th>\n",
       "      <th>x29</th>\n",
       "      <th>x30</th>\n",
       "    </tr>\n",
       "  </thead>\n",
       "  <tbody>\n",
       "    <tr>\n",
       "      <th>0</th>\n",
       "      <td>1</td>\n",
       "      <td>1</td>\n",
       "      <td>5.688565</td>\n",
       "      <td>5.575328</td>\n",
       "      <td>-3.844683</td>\n",
       "      <td>0.127726</td>\n",
       "      <td>-1.787843</td>\n",
       "      <td>-0.652025</td>\n",
       "      <td>-0.579103</td>\n",
       "      <td>0.423272</td>\n",
       "      <td>...</td>\n",
       "      <td>3.226371</td>\n",
       "      <td>-1.206765</td>\n",
       "      <td>0.287060</td>\n",
       "      <td>3.936408</td>\n",
       "      <td>2.161247</td>\n",
       "      <td>1.594426</td>\n",
       "      <td>2.920766</td>\n",
       "      <td>-1.351933</td>\n",
       "      <td>1.423444</td>\n",
       "      <td>3.151186</td>\n",
       "    </tr>\n",
       "    <tr>\n",
       "      <th>1</th>\n",
       "      <td>1</td>\n",
       "      <td>2</td>\n",
       "      <td>1.803330</td>\n",
       "      <td>0.888238</td>\n",
       "      <td>3.624470</td>\n",
       "      <td>-1.802684</td>\n",
       "      <td>-0.562761</td>\n",
       "      <td>0.855777</td>\n",
       "      <td>-0.646218</td>\n",
       "      <td>-0.876128</td>\n",
       "      <td>...</td>\n",
       "      <td>-0.397198</td>\n",
       "      <td>-3.377483</td>\n",
       "      <td>2.261128</td>\n",
       "      <td>-3.301694</td>\n",
       "      <td>-0.320195</td>\n",
       "      <td>2.309822</td>\n",
       "      <td>-0.497333</td>\n",
       "      <td>3.287378</td>\n",
       "      <td>-1.945398</td>\n",
       "      <td>0.825535</td>\n",
       "    </tr>\n",
       "    <tr>\n",
       "      <th>2</th>\n",
       "      <td>1</td>\n",
       "      <td>3</td>\n",
       "      <td>6.503023</td>\n",
       "      <td>7.930423</td>\n",
       "      <td>1.907997</td>\n",
       "      <td>-0.312405</td>\n",
       "      <td>3.099893</td>\n",
       "      <td>1.225655</td>\n",
       "      <td>-3.661449</td>\n",
       "      <td>8.851705</td>\n",
       "      <td>...</td>\n",
       "      <td>1.744194</td>\n",
       "      <td>-1.407474</td>\n",
       "      <td>-2.489719</td>\n",
       "      <td>-0.150733</td>\n",
       "      <td>2.597059</td>\n",
       "      <td>-0.061558</td>\n",
       "      <td>3.905148</td>\n",
       "      <td>-1.733110</td>\n",
       "      <td>0.316718</td>\n",
       "      <td>-5.626626</td>\n",
       "    </tr>\n",
       "    <tr>\n",
       "      <th>3</th>\n",
       "      <td>1</td>\n",
       "      <td>4</td>\n",
       "      <td>2.127946</td>\n",
       "      <td>1.944358</td>\n",
       "      <td>-1.331954</td>\n",
       "      <td>-0.691216</td>\n",
       "      <td>1.142492</td>\n",
       "      <td>3.825156</td>\n",
       "      <td>0.078136</td>\n",
       "      <td>3.251059</td>\n",
       "      <td>...</td>\n",
       "      <td>0.754049</td>\n",
       "      <td>2.254103</td>\n",
       "      <td>1.755821</td>\n",
       "      <td>-1.486690</td>\n",
       "      <td>-4.349257</td>\n",
       "      <td>-2.046951</td>\n",
       "      <td>2.739532</td>\n",
       "      <td>-2.355801</td>\n",
       "      <td>1.824729</td>\n",
       "      <td>-1.369384</td>\n",
       "    </tr>\n",
       "    <tr>\n",
       "      <th>4</th>\n",
       "      <td>1</td>\n",
       "      <td>5</td>\n",
       "      <td>3.623328</td>\n",
       "      <td>4.710092</td>\n",
       "      <td>0.879019</td>\n",
       "      <td>-4.078409</td>\n",
       "      <td>2.609659</td>\n",
       "      <td>-0.088702</td>\n",
       "      <td>1.980767</td>\n",
       "      <td>0.424544</td>\n",
       "      <td>...</td>\n",
       "      <td>2.202419</td>\n",
       "      <td>2.395393</td>\n",
       "      <td>-2.453312</td>\n",
       "      <td>1.875244</td>\n",
       "      <td>-2.323682</td>\n",
       "      <td>1.639090</td>\n",
       "      <td>-4.245873</td>\n",
       "      <td>-2.497935</td>\n",
       "      <td>-1.138097</td>\n",
       "      <td>-0.372274</td>\n",
       "    </tr>\n",
       "    <tr>\n",
       "      <th>5</th>\n",
       "      <td>1</td>\n",
       "      <td>6</td>\n",
       "      <td>8.224220</td>\n",
       "      <td>11.243063</td>\n",
       "      <td>3.183299</td>\n",
       "      <td>2.021404</td>\n",
       "      <td>3.522853</td>\n",
       "      <td>2.698057</td>\n",
       "      <td>-0.632502</td>\n",
       "      <td>-0.595525</td>\n",
       "      <td>...</td>\n",
       "      <td>-4.237946</td>\n",
       "      <td>0.200640</td>\n",
       "      <td>0.917382</td>\n",
       "      <td>1.922730</td>\n",
       "      <td>-2.009517</td>\n",
       "      <td>0.714775</td>\n",
       "      <td>0.711414</td>\n",
       "      <td>-0.043003</td>\n",
       "      <td>0.335447</td>\n",
       "      <td>1.036494</td>\n",
       "    </tr>\n",
       "    <tr>\n",
       "      <th>6</th>\n",
       "      <td>1</td>\n",
       "      <td>7</td>\n",
       "      <td>0.537203</td>\n",
       "      <td>-0.312131</td>\n",
       "      <td>0.889688</td>\n",
       "      <td>-2.227148</td>\n",
       "      <td>-2.674028</td>\n",
       "      <td>5.603542</td>\n",
       "      <td>4.292786</td>\n",
       "      <td>-3.111922</td>\n",
       "      <td>...</td>\n",
       "      <td>-1.768282</td>\n",
       "      <td>2.736326</td>\n",
       "      <td>-0.132751</td>\n",
       "      <td>3.240039</td>\n",
       "      <td>-1.067903</td>\n",
       "      <td>0.058138</td>\n",
       "      <td>-3.015777</td>\n",
       "      <td>2.912558</td>\n",
       "      <td>-0.810825</td>\n",
       "      <td>-3.320911</td>\n",
       "    </tr>\n",
       "    <tr>\n",
       "      <th>7</th>\n",
       "      <td>1</td>\n",
       "      <td>8</td>\n",
       "      <td>1.054859</td>\n",
       "      <td>1.672320</td>\n",
       "      <td>-1.324784</td>\n",
       "      <td>-5.153931</td>\n",
       "      <td>-0.071145</td>\n",
       "      <td>0.251530</td>\n",
       "      <td>0.644162</td>\n",
       "      <td>3.349872</td>\n",
       "      <td>...</td>\n",
       "      <td>2.160536</td>\n",
       "      <td>1.623199</td>\n",
       "      <td>7.426158</td>\n",
       "      <td>-1.342145</td>\n",
       "      <td>-0.848627</td>\n",
       "      <td>-2.269170</td>\n",
       "      <td>0.974895</td>\n",
       "      <td>-1.537269</td>\n",
       "      <td>-6.033720</td>\n",
       "      <td>-2.713107</td>\n",
       "    </tr>\n",
       "    <tr>\n",
       "      <th>8</th>\n",
       "      <td>1</td>\n",
       "      <td>9</td>\n",
       "      <td>1.639310</td>\n",
       "      <td>1.337860</td>\n",
       "      <td>0.161560</td>\n",
       "      <td>2.257953</td>\n",
       "      <td>-3.481427</td>\n",
       "      <td>-1.369462</td>\n",
       "      <td>-0.311600</td>\n",
       "      <td>-1.629059</td>\n",
       "      <td>...</td>\n",
       "      <td>3.441772</td>\n",
       "      <td>-2.568581</td>\n",
       "      <td>-2.438071</td>\n",
       "      <td>3.801736</td>\n",
       "      <td>1.361282</td>\n",
       "      <td>-4.206963</td>\n",
       "      <td>1.111928</td>\n",
       "      <td>0.530692</td>\n",
       "      <td>-4.795123</td>\n",
       "      <td>-0.826367</td>\n",
       "    </tr>\n",
       "    <tr>\n",
       "      <th>9</th>\n",
       "      <td>1</td>\n",
       "      <td>10</td>\n",
       "      <td>0.975663</td>\n",
       "      <td>1.928549</td>\n",
       "      <td>-0.039030</td>\n",
       "      <td>1.635466</td>\n",
       "      <td>2.134317</td>\n",
       "      <td>0.214096</td>\n",
       "      <td>2.310866</td>\n",
       "      <td>-0.327077</td>\n",
       "      <td>...</td>\n",
       "      <td>-4.665311</td>\n",
       "      <td>0.809013</td>\n",
       "      <td>0.952386</td>\n",
       "      <td>0.109747</td>\n",
       "      <td>2.464676</td>\n",
       "      <td>-2.749412</td>\n",
       "      <td>2.478942</td>\n",
       "      <td>-1.571778</td>\n",
       "      <td>1.622380</td>\n",
       "      <td>-0.724943</td>\n",
       "    </tr>\n",
       "    <tr>\n",
       "      <th>10</th>\n",
       "      <td>2</td>\n",
       "      <td>1</td>\n",
       "      <td>-3.601025</td>\n",
       "      <td>-4.280872</td>\n",
       "      <td>1.820927</td>\n",
       "      <td>1.745184</td>\n",
       "      <td>-3.273723</td>\n",
       "      <td>-0.345453</td>\n",
       "      <td>-0.206685</td>\n",
       "      <td>-0.531905</td>\n",
       "      <td>...</td>\n",
       "      <td>0.795408</td>\n",
       "      <td>1.899734</td>\n",
       "      <td>-0.273145</td>\n",
       "      <td>-1.522430</td>\n",
       "      <td>-2.387845</td>\n",
       "      <td>-0.171460</td>\n",
       "      <td>1.281184</td>\n",
       "      <td>1.024001</td>\n",
       "      <td>-0.039841</td>\n",
       "      <td>-1.341951</td>\n",
       "    </tr>\n",
       "  </tbody>\n",
       "</table>\n",
       "<p>11 rows × 34 columns</p>\n",
       "</div>"
      ],
      "text/plain": [
       "    id  time         d          y        x1        x2        x3        x4  \\\n",
       "0    1     1  5.688565   5.575328 -3.844683  0.127726 -1.787843 -0.652025   \n",
       "1    1     2  1.803330   0.888238  3.624470 -1.802684 -0.562761  0.855777   \n",
       "2    1     3  6.503023   7.930423  1.907997 -0.312405  3.099893  1.225655   \n",
       "3    1     4  2.127946   1.944358 -1.331954 -0.691216  1.142492  3.825156   \n",
       "4    1     5  3.623328   4.710092  0.879019 -4.078409  2.609659 -0.088702   \n",
       "5    1     6  8.224220  11.243063  3.183299  2.021404  3.522853  2.698057   \n",
       "6    1     7  0.537203  -0.312131  0.889688 -2.227148 -2.674028  5.603542   \n",
       "7    1     8  1.054859   1.672320 -1.324784 -5.153931 -0.071145  0.251530   \n",
       "8    1     9  1.639310   1.337860  0.161560  2.257953 -3.481427 -1.369462   \n",
       "9    1    10  0.975663   1.928549 -0.039030  1.635466  2.134317  0.214096   \n",
       "10   2     1 -3.601025  -4.280872  1.820927  1.745184 -3.273723 -0.345453   \n",
       "\n",
       "          x5        x6  ...       x21       x22       x23       x24       x25  \\\n",
       "0  -0.579103  0.423272  ...  3.226371 -1.206765  0.287060  3.936408  2.161247   \n",
       "1  -0.646218 -0.876128  ... -0.397198 -3.377483  2.261128 -3.301694 -0.320195   \n",
       "2  -3.661449  8.851705  ...  1.744194 -1.407474 -2.489719 -0.150733  2.597059   \n",
       "3   0.078136  3.251059  ...  0.754049  2.254103  1.755821 -1.486690 -4.349257   \n",
       "4   1.980767  0.424544  ...  2.202419  2.395393 -2.453312  1.875244 -2.323682   \n",
       "5  -0.632502 -0.595525  ... -4.237946  0.200640  0.917382  1.922730 -2.009517   \n",
       "6   4.292786 -3.111922  ... -1.768282  2.736326 -0.132751  3.240039 -1.067903   \n",
       "7   0.644162  3.349872  ...  2.160536  1.623199  7.426158 -1.342145 -0.848627   \n",
       "8  -0.311600 -1.629059  ...  3.441772 -2.568581 -2.438071  3.801736  1.361282   \n",
       "9   2.310866 -0.327077  ... -4.665311  0.809013  0.952386  0.109747  2.464676   \n",
       "10 -0.206685 -0.531905  ...  0.795408  1.899734 -0.273145 -1.522430 -2.387845   \n",
       "\n",
       "         x26       x27       x28       x29       x30  \n",
       "0   1.594426  2.920766 -1.351933  1.423444  3.151186  \n",
       "1   2.309822 -0.497333  3.287378 -1.945398  0.825535  \n",
       "2  -0.061558  3.905148 -1.733110  0.316718 -5.626626  \n",
       "3  -2.046951  2.739532 -2.355801  1.824729 -1.369384  \n",
       "4   1.639090 -4.245873 -2.497935 -1.138097 -0.372274  \n",
       "5   0.714775  0.711414 -0.043003  0.335447  1.036494  \n",
       "6   0.058138 -3.015777  2.912558 -0.810825 -3.320911  \n",
       "7  -2.269170  0.974895 -1.537269 -6.033720 -2.713107  \n",
       "8  -4.206963  1.111928  0.530692 -4.795123 -0.826367  \n",
       "9  -2.749412  2.478942 -1.571778  1.622380 -0.724943  \n",
       "10 -0.171460  1.281184  1.024001 -0.039841 -1.341951  \n",
       "\n",
       "[11 rows x 34 columns]"
      ]
     },
     "execution_count": 1,
     "metadata": {},
     "output_type": "execute_result"
    }
   ],
   "source": [
    "# import pandas as pd \n",
    "import numpy as np\n",
    "from doubleml.plm.pdml_data import panel_sim_CP\n",
    "\n",
    "df = panel_sim_CP(seed=1)\n",
    "\n",
    "# df_comp = pd.read_csv('dgp4_cre_short.csv')\n",
    "# print(np.mean(df['x12'])) # print(np.mean(df_comp['x12']))\n",
    "\n",
    "df.head(11)"
   ]
  },
  {
   "cell_type": "markdown",
   "metadata": {},
   "source": [
    "Random splitting"
   ]
  },
  {
   "cell_type": "code",
   "execution_count": 2,
   "metadata": {},
   "outputs": [
    {
     "data": {
      "text/plain": [
       "(array([   0,    1,    2, ..., 2493, 2494, 2495], shape=(2000,)),\n",
       " array([   4,    6,   17,   30,   40,   47,   50,   54,   56,   58,   65,\n",
       "          75,   81,   93,  102,  107,  108,  111,  119,  120,  124,  126,\n",
       "         130,  134,  165,  169,  171,  177,  192,  194,  195,  203,  205,\n",
       "         206,  208,  216,  219,  228,  231,  236,  241,  242,  255,  258,\n",
       "         270,  275,  280,  282,  285,  287,  292,  297,  304,  306,  314,\n",
       "         321,  329,  335,  340,  346,  348,  366,  367,  368,  370,  396,\n",
       "         397,  403,  415,  425,  428,  432,  438,  439,  440,  442,  443,\n",
       "         444,  453,  464,  468,  477,  480,  481,  485,  486,  487,  495,\n",
       "         499,  508,  514,  517,  521,  525,  527,  535,  540,  544,  546,\n",
       "         547,  553,  555,  557,  559,  560,  561,  563,  569,  572,  586,\n",
       "         587,  589,  592,  598,  607,  610,  612,  613,  614,  620,  623,\n",
       "         632,  638,  642,  655,  660,  664,  671,  674,  675,  679,  685,\n",
       "         692,  693,  703,  707,  708,  712,  713,  724,  725,  736,  745,\n",
       "         747,  748,  756,  757,  760,  761,  767,  768,  771,  772,  784,\n",
       "         785,  788,  802,  804,  808,  813,  820,  821,  828,  829,  840,\n",
       "         845,  851,  857,  858,  866,  877,  880,  885,  891,  898,  902,\n",
       "         906,  913,  917,  924,  943,  954,  955,  957,  959,  965,  968,\n",
       "         979,  982,  983,  992,  993,  994, 1011, 1012, 1027, 1032, 1036,\n",
       "        1037, 1039, 1044, 1060, 1065, 1071, 1073, 1077, 1080, 1084, 1087,\n",
       "        1089, 1093, 1094, 1112, 1114, 1122, 1125, 1128, 1131, 1132, 1140,\n",
       "        1141, 1143, 1144, 1145, 1147, 1156, 1159, 1164, 1167, 1188, 1193,\n",
       "        1196, 1201, 1208, 1215, 1217, 1225, 1236, 1239, 1241, 1247, 1248,\n",
       "        1252, 1255, 1264, 1265, 1276, 1281, 1290, 1294, 1299, 1307, 1308,\n",
       "        1318, 1323, 1325, 1326, 1328, 1329, 1336, 1344, 1359, 1365, 1370,\n",
       "        1374, 1378, 1380, 1388, 1397, 1400, 1401, 1402, 1404, 1406, 1408,\n",
       "        1410, 1417, 1422, 1426, 1427, 1430, 1435, 1436, 1438, 1441, 1442,\n",
       "        1447, 1448, 1450, 1452, 1454, 1457, 1461, 1470, 1475, 1476, 1477,\n",
       "        1488, 1489, 1494, 1508, 1518, 1519, 1537, 1539, 1544, 1545, 1549,\n",
       "        1551, 1554, 1556, 1561, 1566, 1575, 1576, 1577, 1578, 1583, 1586,\n",
       "        1587, 1596, 1605, 1608, 1624, 1625, 1626, 1629, 1641, 1646, 1648,\n",
       "        1649, 1651, 1653, 1661, 1662, 1672, 1677, 1678, 1680, 1681, 1682,\n",
       "        1698, 1703, 1705, 1708, 1709, 1723, 1724, 1725, 1727, 1735, 1743,\n",
       "        1748, 1749, 1751, 1755, 1758, 1761, 1764, 1767, 1781, 1791, 1800,\n",
       "        1811, 1813, 1814, 1819, 1821, 1825, 1827, 1841, 1842, 1853, 1854,\n",
       "        1868, 1877, 1892, 1896, 1900, 1907, 1918, 1922, 1923, 1924, 1925,\n",
       "        1931, 1933, 1934, 1935, 1937, 1938, 1940, 1948, 1967, 1973, 1975,\n",
       "        1976, 1986, 1987, 1989, 1992, 2005, 2007, 2009, 2011, 2020, 2036,\n",
       "        2040, 2046, 2050, 2053, 2056, 2065, 2082, 2089, 2100, 2108, 2113,\n",
       "        2116, 2123, 2137, 2138, 2143, 2150, 2153, 2165, 2168, 2169, 2180,\n",
       "        2182, 2184, 2190, 2203, 2204, 2213, 2227, 2228, 2233, 2240, 2245,\n",
       "        2250, 2251, 2261, 2262, 2263, 2265, 2280, 2281, 2287, 2289, 2291,\n",
       "        2293, 2297, 2301, 2303, 2306, 2307, 2309, 2313, 2323, 2324, 2325,\n",
       "        2333, 2334, 2336, 2351, 2359, 2362, 2363, 2367, 2368, 2374, 2378,\n",
       "        2380, 2381, 2382, 2395, 2403, 2410, 2417, 2419, 2421, 2422, 2423,\n",
       "        2427, 2431, 2434, 2444, 2450, 2455, 2470, 2471, 2472, 2473, 2481,\n",
       "        2490, 2496, 2497, 2498, 2499]))"
      ]
     },
     "execution_count": 2,
     "metadata": {},
     "output_type": "execute_result"
    }
   ],
   "source": [
    "from sklearn.model_selection import RepeatedKFold\n",
    "\n",
    "n_obs = df.shape[0]\n",
    "n_folds = 5\n",
    "\n",
    "np.random.seed(1)\n",
    "resampling = RepeatedKFold(n_splits=n_folds, n_repeats=1)\n",
    "\n",
    "all_smpls = [(train, test) for train, test in resampling.split(X=np.zeros(n_obs), y=None, groups=None)]\n",
    "smpls = [all_smpls]\n",
    "\n",
    "smpls[0][0]\n"
   ]
  },
  {
   "cell_type": "code",
   "execution_count": 3,
   "metadata": {},
   "outputs": [
    {
     "data": {
      "text/plain": [
       "array([  10,   11,   12, ..., 2487, 2488, 2489], shape=(2000,))"
      ]
     },
     "execution_count": 3,
     "metadata": {},
     "output_type": "execute_result"
    }
   ],
   "source": [
    "from doubleml.utils.resampling import DoubleMLClusterResampling\n",
    "\n",
    "np.random.seed(1)\n",
    "obj_dml_resampling = DoubleMLClusterResampling(n_folds=5,\n",
    "                                               n_rep=1,\n",
    "                                               n_obs=df.shape[0],\n",
    "                                               n_cluster_vars=1,\n",
    "                                               cluster_vars=df['id'].values.reshape((-1,1))\n",
    "                                               )\n",
    "\n",
    "smpls, smpls_cluster = obj_dml_resampling.split_samples()\n",
    "\n",
    "smpls[0][0][0]\n"
   ]
  },
  {
   "cell_type": "markdown",
   "metadata": {},
   "source": [
    "Sample splitting by unit or time, using GroupKFold, only 1 repeat like this"
   ]
  },
  {
   "cell_type": "code",
   "execution_count": 4,
   "metadata": {},
   "outputs": [
    {
     "name": "stdout",
     "output_type": "stream",
     "text": [
      "500\n"
     ]
    },
    {
     "data": {
      "text/plain": [
       "array([  0,   1,   2,   3,   4,   5,   6,   7,   8,   9,  50,  51,  52,\n",
       "        53,  54,  55,  56,  57,  58,  59, 100, 101, 102, 103, 104, 105,\n",
       "       106, 107, 108, 109, 150, 151, 152, 153, 154, 155, 156, 157, 158,\n",
       "       159, 200, 201, 202, 203, 204, 205, 206, 207, 208, 209])"
      ]
     },
     "execution_count": 4,
     "metadata": {},
     "output_type": "execute_result"
    }
   ],
   "source": [
    "from sklearn.model_selection import GroupKFold\n",
    "\n",
    "groups = list(df['id']) # 'time'\n",
    "\n",
    "gkf = GroupKFold(n_splits=5)\n",
    "\n",
    "all_smpls = [(train, test) for train, test in gkf.split(X=np.zeros(df.shape[0]), y=None, groups=groups)]\n",
    "smpls = [all_smpls]\n",
    "\n",
    "print(len(smpls[0][4][1]))\n",
    "smpls[0][4][1][:50] # df indices inlcudes all periods for 1 unit"
   ]
  },
  {
   "cell_type": "code",
   "execution_count": 5,
   "metadata": {},
   "outputs": [
    {
     "data": {
      "text/plain": [
       "array([  0,   1,   2,   3,   4,   5,   6,   7,   8,   9,  50,  51,  52,\n",
       "        53,  54,  55,  56,  57,  58,  59, 100, 101, 102, 103, 104, 105,\n",
       "       106, 107, 108, 109, 150, 151, 152, 153, 154, 155, 156, 157, 158,\n",
       "       159, 200, 201, 202, 203, 204, 205, 206, 207, 208, 209])"
      ]
     },
     "execution_count": 5,
     "metadata": {},
     "output_type": "execute_result"
    }
   ],
   "source": [
    "from doubleml.plm.pdml_resampling import DoubleMLPanelResampling\n",
    "\n",
    "obj_pdml_resampling = DoubleMLPanelResampling(n_folds=5,\n",
    "                                             n_obs=df.shape[0],\n",
    "                                             method='by_group',\n",
    "                                             groups=list(df['id'])\n",
    "                                             )\n",
    "\n",
    "smpls = obj_pdml_resampling.split_samples()\n",
    "\n",
    "smpls[0][4][1][:50]"
   ]
  },
  {
   "cell_type": "code",
   "execution_count": 6,
   "metadata": {},
   "outputs": [
    {
     "name": "stdout",
     "output_type": "stream",
     "text": [
      "500\n"
     ]
    },
    {
     "data": {
      "text/plain": [
       "array([  0,   5,  10,  15,  20,  25,  30,  35,  40,  45,  50,  55,  60,\n",
       "        65,  70,  75,  80,  85,  90,  95, 100, 105, 110, 115, 120, 125,\n",
       "       130, 135, 140, 145, 150, 155, 160, 165, 170, 175, 180, 185, 190,\n",
       "       195, 200, 205, 210, 215, 220, 225, 230, 235, 240, 245])"
      ]
     },
     "execution_count": 6,
     "metadata": {},
     "output_type": "execute_result"
    }
   ],
   "source": [
    "groups = list(df['time']) \n",
    "\n",
    "gkf = GroupKFold(n_splits=5)\n",
    "\n",
    "all_smpls = [(train, test) for train, test in gkf.split(X=np.zeros(df.shape[0]), y=None, groups=groups)]\n",
    "smpls = [all_smpls]\n",
    "\n",
    "print(len(smpls[0][4][1]))\n",
    "smpls[0][4][1][:50]\n",
    "# smpls[0][4][0][:50]"
   ]
  },
  {
   "cell_type": "code",
   "execution_count": 7,
   "metadata": {},
   "outputs": [
    {
     "data": {
      "text/plain": [
       "array([  0,   5,  10,  15,  20,  25,  30,  35,  40,  45,  50,  55,  60,\n",
       "        65,  70,  75,  80,  85,  90,  95, 100, 105, 110, 115, 120, 125,\n",
       "       130, 135, 140, 145, 150, 155, 160, 165, 170, 175, 180, 185, 190,\n",
       "       195, 200, 205, 210, 215, 220, 225, 230, 235, 240, 245])"
      ]
     },
     "execution_count": 7,
     "metadata": {},
     "output_type": "execute_result"
    }
   ],
   "source": [
    "from doubleml.plm.pdml_resampling import DoubleMLPanelResampling\n",
    "\n",
    "obj_pdml_resampling = DoubleMLPanelResampling(n_folds=5,\n",
    "                                             n_obs=df.shape[0],\n",
    "                                             method='by_group',\n",
    "                                             groups=list(df['time'])\n",
    "                                             )\n",
    "\n",
    "smpls = obj_pdml_resampling.split_samples()\n",
    "\n",
    "smpls[0][4][1][:50]"
   ]
  },
  {
   "cell_type": "markdown",
   "metadata": {},
   "source": [
    "Splitting by time into folds with adjacent periods, no repeated cross-fitting possible"
   ]
  },
  {
   "cell_type": "code",
   "execution_count": 19,
   "metadata": {},
   "outputs": [
    {
     "name": "stdout",
     "output_type": "stream",
     "text": [
      "[ 1  2  3  4  5  6  7  8  9 10]\n",
      "[0 1 2 3 4 5 6 7 8 9]\n"
     ]
    },
    {
     "data": {
      "text/plain": [
       "[[(array([1, 2, 3, 4, 5, 6, 7, 8, 9]), array([10])),\n",
       "  (array([ 1,  2,  3,  4,  5,  6,  7,  8, 10]), array([9])),\n",
       "  (array([ 1,  2,  3,  4,  5,  6,  7,  9, 10]), array([8])),\n",
       "  (array([ 1,  2,  3,  4,  5,  6,  8,  9, 10]), array([7])),\n",
       "  (array([ 1,  2,  3,  4,  5,  7,  8,  9, 10]), array([6])),\n",
       "  (array([ 1,  2,  3,  4,  6,  7,  8,  9, 10]), array([5])),\n",
       "  (array([ 1,  2,  3,  5,  6,  7,  8,  9, 10]), array([4])),\n",
       "  (array([ 1,  2,  4,  5,  6,  7,  8,  9, 10]), array([3])),\n",
       "  (array([ 1,  3,  4,  5,  6,  7,  8,  9, 10]), array([2])),\n",
       "  (array([ 2,  3,  4,  5,  6,  7,  8,  9, 10]), array([1]))]]"
      ]
     },
     "execution_count": 19,
     "metadata": {},
     "output_type": "execute_result"
    }
   ],
   "source": [
    "from sklearn.model_selection import GroupKFold\n",
    "\n",
    "n_folds = 10 # 5\n",
    "\n",
    "resampling = GroupKFold(n_splits=n_folds)\n",
    "\n",
    "all_smpls = []\n",
    "all_smpls_time = []\n",
    "\n",
    "smpls_time_var = []\n",
    "time_var = df['time'].values # .sort_values(ascending=False), reshape\n",
    "time_periods = np.unique(time_var)\n",
    "print(time_periods)\n",
    "n_time_periods = len(time_periods)\n",
    "\n",
    "time_periods_per_fold = len(time_periods) // n_folds\n",
    "\n",
    "group = np.repeat(np.arange(n_folds), time_periods_per_fold)\n",
    "print(group)\n",
    "\n",
    "smpls_time_var.append([(time_periods[train], time_periods[test])\n",
    "                            for train, test in resampling.split(np.zeros(n_time_periods), groups=group)])\n",
    "\n",
    "from copy import deepcopy\n",
    "\n",
    "smpls_time_var_d = deepcopy(smpls_time_var)\n",
    "smpls_time_var"
   ]
  },
  {
   "cell_type": "code",
   "execution_count": 20,
   "metadata": {},
   "outputs": [
    {
     "data": {
      "text/plain": [
       "np.int64(2250)"
      ]
     },
     "execution_count": 20,
     "metadata": {},
     "output_type": "execute_result"
    }
   ],
   "source": [
    "len(smpls_time_var[0][0])\n",
    "np.sum(np.isin(df['time'], smpls_time_var[0][1][0]))"
   ]
  },
  {
   "cell_type": "code",
   "execution_count": 21,
   "metadata": {},
   "outputs": [
    {
     "name": "stdout",
     "output_type": "stream",
     "text": [
      "2250\n"
     ]
    },
    {
     "data": {
      "text/plain": [
       "array([   9,   19,   29,   39,   49,   59,   69,   79,   89,   99,  109,\n",
       "        119,  129,  139,  149,  159,  169,  179,  189,  199,  209,  219,\n",
       "        229,  239,  249,  259,  269,  279,  289,  299,  309,  319,  329,\n",
       "        339,  349,  359,  369,  379,  389,  399,  409,  419,  429,  439,\n",
       "        449,  459,  469,  479,  489,  499,  509,  519,  529,  539,  549,\n",
       "        559,  569,  579,  589,  599,  609,  619,  629,  639,  649,  659,\n",
       "        669,  679,  689,  699,  709,  719,  729,  739,  749,  759,  769,\n",
       "        779,  789,  799,  809,  819,  829,  839,  849,  859,  869,  879,\n",
       "        889,  899,  909,  919,  929,  939,  949,  959,  969,  979,  989,\n",
       "        999, 1009, 1019, 1029, 1039, 1049, 1059, 1069, 1079, 1089, 1099,\n",
       "       1109, 1119, 1129, 1139, 1149, 1159, 1169, 1179, 1189, 1199, 1209,\n",
       "       1219, 1229, 1239, 1249, 1259, 1269, 1279, 1289, 1299, 1309, 1319,\n",
       "       1329, 1339, 1349, 1359, 1369, 1379, 1389, 1399, 1409, 1419, 1429,\n",
       "       1439, 1449, 1459, 1469, 1479, 1489, 1499, 1509, 1519, 1529, 1539,\n",
       "       1549, 1559, 1569, 1579, 1589, 1599, 1609, 1619, 1629, 1639, 1649,\n",
       "       1659, 1669, 1679, 1689, 1699, 1709, 1719, 1729, 1739, 1749, 1759,\n",
       "       1769, 1779, 1789, 1799, 1809, 1819, 1829, 1839, 1849, 1859, 1869,\n",
       "       1879, 1889, 1899, 1909, 1919, 1929, 1939, 1949, 1959, 1969, 1979,\n",
       "       1989, 1999, 2009, 2019, 2029, 2039, 2049, 2059, 2069, 2079, 2089,\n",
       "       2099, 2109, 2119, 2129, 2139, 2149, 2159, 2169, 2179, 2189, 2199,\n",
       "       2209, 2219, 2229, 2239, 2249, 2259, 2269, 2279, 2289, 2299, 2309,\n",
       "       2319, 2329, 2339, 2349, 2359, 2369, 2379, 2389, 2399, 2409, 2419,\n",
       "       2429, 2439, 2449, 2459, 2469, 2479, 2489, 2499])"
      ]
     },
     "execution_count": 21,
     "metadata": {},
     "output_type": "execute_result"
    }
   ],
   "source": [
    "n_obs = df.shape[0]\n",
    "\n",
    "all_smpls = []\n",
    "all_smpls_timefold = []\n",
    "smpls = []\n",
    "smpls_timefold = []\n",
    "\n",
    "for i_smpl in range(n_folds):\n",
    "    ind_train = np.full(n_obs, True)\n",
    "    ind_test = np.full(n_obs, True)\n",
    "    this_timefold_smpl_train = []\n",
    "    this_timefold_smpl_test = []\n",
    "\n",
    "    train_timefolds = smpls_time_var[0][i_smpl][0]\n",
    "    test_timefolds = smpls_time_var[0][i_smpl][1]\n",
    "    this_timefold_smpl_train.append(train_timefolds)\n",
    "    this_timefold_smpl_test.append(test_timefolds)\n",
    "    ind_train = ind_train & np.isin(time_var, train_timefolds)\n",
    "    ind_test = ind_test & np.isin(time_var, test_timefolds)\n",
    "    \n",
    "    train_set = np.arange(n_obs)[ind_train]\n",
    "    test_set = np.arange(n_obs)[ind_test]\n",
    "    smpls.append((train_set, test_set))\n",
    "    smpls_timefold.append((this_timefold_smpl_train, this_timefold_smpl_test))\n",
    "all_smpls.append(smpls)\n",
    "all_smpls_timefold.append(smpls_timefold)\n",
    "\n",
    "print(len(all_smpls[0][0][0]))\n",
    "all_smpls[0][0][1]#[:50]"
   ]
  },
  {
   "cell_type": "code",
   "execution_count": 22,
   "metadata": {},
   "outputs": [
    {
     "name": "stdout",
     "output_type": "stream",
     "text": [
      "2250\n"
     ]
    },
    {
     "data": {
      "text/plain": [
       "array([   9,   19,   29,   39,   49,   59,   69,   79,   89,   99,  109,\n",
       "        119,  129,  139,  149,  159,  169,  179,  189,  199,  209,  219,\n",
       "        229,  239,  249,  259,  269,  279,  289,  299,  309,  319,  329,\n",
       "        339,  349,  359,  369,  379,  389,  399,  409,  419,  429,  439,\n",
       "        449,  459,  469,  479,  489,  499,  509,  519,  529,  539,  549,\n",
       "        559,  569,  579,  589,  599,  609,  619,  629,  639,  649,  659,\n",
       "        669,  679,  689,  699,  709,  719,  729,  739,  749,  759,  769,\n",
       "        779,  789,  799,  809,  819,  829,  839,  849,  859,  869,  879,\n",
       "        889,  899,  909,  919,  929,  939,  949,  959,  969,  979,  989,\n",
       "        999, 1009, 1019, 1029, 1039, 1049, 1059, 1069, 1079, 1089, 1099,\n",
       "       1109, 1119, 1129, 1139, 1149, 1159, 1169, 1179, 1189, 1199, 1209,\n",
       "       1219, 1229, 1239, 1249, 1259, 1269, 1279, 1289, 1299, 1309, 1319,\n",
       "       1329, 1339, 1349, 1359, 1369, 1379, 1389, 1399, 1409, 1419, 1429,\n",
       "       1439, 1449, 1459, 1469, 1479, 1489, 1499, 1509, 1519, 1529, 1539,\n",
       "       1549, 1559, 1569, 1579, 1589, 1599, 1609, 1619, 1629, 1639, 1649,\n",
       "       1659, 1669, 1679, 1689, 1699, 1709, 1719, 1729, 1739, 1749, 1759,\n",
       "       1769, 1779, 1789, 1799, 1809, 1819, 1829, 1839, 1849, 1859, 1869,\n",
       "       1879, 1889, 1899, 1909, 1919, 1929, 1939, 1949, 1959, 1969, 1979,\n",
       "       1989, 1999, 2009, 2019, 2029, 2039, 2049, 2059, 2069, 2079, 2089,\n",
       "       2099, 2109, 2119, 2129, 2139, 2149, 2159, 2169, 2179, 2189, 2199,\n",
       "       2209, 2219, 2229, 2239, 2249, 2259, 2269, 2279, 2289, 2299, 2309,\n",
       "       2319, 2329, 2339, 2349, 2359, 2369, 2379, 2389, 2399, 2409, 2419,\n",
       "       2429, 2439, 2449, 2459, 2469, 2479, 2489, 2499])"
      ]
     },
     "execution_count": 22,
     "metadata": {},
     "output_type": "execute_result"
    }
   ],
   "source": [
    "from doubleml.plm.pdml_resampling import DoubleMLPanelResampling\n",
    "\n",
    "obj_pdml_resampling = DoubleMLPanelResampling(n_folds=10,\n",
    "                                             n_obs=df.shape[0],\n",
    "                                             method='time_folds',\n",
    "                                             groups=list(df['time'])\n",
    "                                             )\n",
    "\n",
    "smpls = obj_pdml_resampling.split_samples()\n",
    "\n",
    "print(len(smpls[0][0][0]))\n",
    "smpls[0][0][1]"
   ]
  },
  {
   "cell_type": "markdown",
   "metadata": {},
   "source": [
    "Neighbors-left-out cross-fitting"
   ]
  },
  {
   "cell_type": "code",
   "execution_count": 23,
   "metadata": {},
   "outputs": [
    {
     "data": {
      "text/plain": [
       "[[(array([1, 2, 3, 4, 5, 6, 7, 8, 9]), array([10])),\n",
       "  (array([ 1,  2,  3,  4,  5,  6,  7,  8, 10]), array([9])),\n",
       "  (array([ 1,  2,  3,  4,  5,  6,  7,  9, 10]), array([8])),\n",
       "  (array([ 1,  2,  3,  4,  5,  6,  8,  9, 10]), array([7])),\n",
       "  (array([ 1,  2,  3,  4,  5,  7,  8,  9, 10]), array([6])),\n",
       "  (array([ 1,  2,  3,  4,  6,  7,  8,  9, 10]), array([5])),\n",
       "  (array([ 1,  2,  3,  5,  6,  7,  8,  9, 10]), array([4])),\n",
       "  (array([ 1,  2,  4,  5,  6,  7,  8,  9, 10]), array([3])),\n",
       "  (array([ 1,  3,  4,  5,  6,  7,  8,  9, 10]), array([2])),\n",
       "  (array([ 2,  3,  4,  5,  6,  7,  8,  9, 10]), array([1]))]]"
      ]
     },
     "execution_count": 23,
     "metadata": {},
     "output_type": "execute_result"
    }
   ],
   "source": [
    "smpls_time_var_d"
   ]
  },
  {
   "cell_type": "code",
   "execution_count": 28,
   "metadata": {},
   "outputs": [
    {
     "data": {
      "text/plain": [
       "[[(array([1, 2, 3, 4, 5, 6, 7, 8]), array([10])),\n",
       "  (array([1, 2, 3, 4, 5, 6, 7]), array([9])),\n",
       "  (array([ 1,  2,  3,  4,  5,  6, 10]), array([8])),\n",
       "  (array([ 1,  2,  3,  4,  5,  9, 10]), array([7])),\n",
       "  (array([ 1,  2,  3,  4,  8,  9, 10]), array([6])),\n",
       "  (array([ 1,  2,  3,  7,  8,  9, 10]), array([5])),\n",
       "  (array([ 1,  2,  6,  7,  8,  9, 10]), array([4])),\n",
       "  (array([ 1,  5,  6,  7,  8,  9, 10]), array([3])),\n",
       "  (array([ 4,  5,  6,  7,  8,  9, 10]), array([2])),\n",
       "  (array([ 3,  4,  5,  6,  7,  8,  9, 10]), array([1]))]]"
      ]
     },
     "execution_count": 28,
     "metadata": {},
     "output_type": "execute_result"
    }
   ],
   "source": [
    "for i in range(n_folds):\n",
    "    train_up = smpls_time_var_d[0][i][0]\n",
    "    smpls_time_var_d[0][i] = train_up[~np.isin(train_up, [smpls_time_var_d[0][i][1] - time_periods_per_fold,\n",
    "                                                         smpls_time_var_d[0][i][1] + time_periods_per_fold])], smpls_time_var_d[0][i][1]\n",
    "\n",
    "smpls_time_var_d"
   ]
  },
  {
   "cell_type": "code",
   "execution_count": 32,
   "metadata": {},
   "outputs": [
    {
     "name": "stdout",
     "output_type": "stream",
     "text": [
      "1750\n"
     ]
    },
    {
     "data": {
      "text/plain": [
       "array([   0,    1,    2, ..., 2494, 2495, 2496], shape=(1750,))"
      ]
     },
     "execution_count": 32,
     "metadata": {},
     "output_type": "execute_result"
    }
   ],
   "source": [
    "# smpls_time_var_d\n",
    "\n",
    "all_smpls = []\n",
    "all_smpls_timefold = []\n",
    "smpls = []\n",
    "smpls_timefold = []\n",
    "\n",
    "for i_smpl in range(n_folds):\n",
    "    ind_train = np.full(n_obs, True)\n",
    "    ind_test = np.full(n_obs, True)\n",
    "    this_timefold_smpl_train = []\n",
    "    this_timefold_smpl_test = []\n",
    "\n",
    "    train_timefolds = smpls_time_var_d[0][i_smpl][0]\n",
    "    test_timefolds = smpls_time_var_d[0][i_smpl][1]\n",
    "    this_timefold_smpl_train.append(train_timefolds)\n",
    "    this_timefold_smpl_test.append(test_timefolds)\n",
    "    ind_train = ind_train & np.isin(time_var, train_timefolds)\n",
    "    ind_test = ind_test & np.isin(time_var, test_timefolds)\n",
    "    \n",
    "    train_set = np.arange(n_obs)[ind_train]\n",
    "    test_set = np.arange(n_obs)[ind_test]\n",
    "    smpls.append((train_set, test_set))\n",
    "    smpls_timefold.append((this_timefold_smpl_train, this_timefold_smpl_test))\n",
    "all_smpls.append(smpls)\n",
    "all_smpls_timefold.append(smpls_timefold)\n",
    "\n",
    "print(len(all_smpls[0][5][0]))\n",
    "all_smpls[0][1][0]"
   ]
  },
  {
   "cell_type": "code",
   "execution_count": 33,
   "metadata": {},
   "outputs": [
    {
     "name": "stdout",
     "output_type": "stream",
     "text": [
      "1750\n"
     ]
    },
    {
     "data": {
      "text/plain": [
       "array([   0,    1,    2, ..., 2494, 2495, 2496], shape=(1750,))"
      ]
     },
     "execution_count": 33,
     "metadata": {},
     "output_type": "execute_result"
    }
   ],
   "source": [
    "from doubleml.plm.pdml_resampling import DoubleMLPanelResampling\n",
    "\n",
    "obj_pdml_resampling = DoubleMLPanelResampling(n_folds=10,\n",
    "                                             n_obs=df.shape[0],\n",
    "                                             method='time_folds_neighbors',\n",
    "                                             groups=list(df['time'])\n",
    "                                             )\n",
    "\n",
    "smpls = obj_pdml_resampling.split_samples()\n",
    "\n",
    "print(len(smpls[0][5][0]))\n",
    "smpls[0][1][0]"
   ]
  }
 ],
 "metadata": {
  "kernelspec": {
   "display_name": ".venv",
   "language": "python",
   "name": "python3"
  },
  "language_info": {
   "codemirror_mode": {
    "name": "ipython",
    "version": 3
   },
   "file_extension": ".py",
   "mimetype": "text/x-python",
   "name": "python",
   "nbconvert_exporter": "python",
   "pygments_lexer": "ipython3",
   "version": "3.13.1"
  }
 },
 "nbformat": 4,
 "nbformat_minor": 2
}
